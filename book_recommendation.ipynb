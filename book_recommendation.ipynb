{
 "cells": [
  {
   "cell_type": "markdown",
   "metadata": {},
   "source": [
    "<!DOCTYPE html>\n",
    "<html>\n",
    "<head>\n",
    "<style>\n",
    "/* CSS để định dạng và di chuyển chữ */\n",
    "@keyframes moveText {\n",
    "    0% { transform: translateX(0); }\n",
    "    50% { transform: translateX(100px); }\n",
    "    100% { transform: translateX(0); }\n",
    "}\n",
    ".moving-text {\n",
    "    font-family: 'Poppins', Arial, sans-serif; /* Sử dụng font Poppins từ Google Fonts */\n",
    "    font-size: 36px;\n",
    "    color: #3498db;\n",
    "    animation: moveText 2s infinite; /* Lặp lại vô hạn */\n",
    "}\n",
    "</style>\n",
    "</head>\n",
    "<body>\n",
    "\n",
    "<h1 style=\"text-align:center; font-family: 'Arial Black', Gadget, sans-serif; color: #3498db;\">**BOOK RECOMMENDATION**</h1>\n",
    "\n",
    "\n",
    "<!-- Đoạn mã JavaScript để áp dụng lớp CSS cho tiêu đề -->\n",
    "<script>\n",
    "document.addEventListener('DOMContentLoaded', function() {\n",
    "    var movingText = document.querySelector('.moving-text');\n",
    "    movingText.classList.add('moving-text');\n",
    "});\n",
    "</script>\n",
    "\n",
    "<p class=\"moving-text\" style=\"text-align:center;\">Hệ hỗ trợ quyết định</p>\n",
    "<p class=\"moving-text\" style=\"text-align:center;\">Nhóm 1</p>\n",
    "\n",
    "</body>\n",
    "</html>"
   ]
  },
  {
   "cell_type": "markdown",
   "metadata": {},
   "source": [
    "## `Đề bài`"
   ]
  },
  {
   "cell_type": "markdown",
   "metadata": {},
   "source": [
    "- **Name**: Book recommendation\n",
    "- **Data**: [Dataset Link](https://www.kaggle.com/datasets/imtkaggleteam/book-recommendation-good-book-api/data) (Created By AmirHossein Mirzaei | September 2023)\n",
    "- **Describe**: This dataset contains basic information about books collected from the Goodbook site\n",
    "- **Task**:  Build a recommendation system to recommend books and bring people closer to a better decision\n",
    "- **Group**: Recommendation"
   ]
  },
  {
   "cell_type": "markdown",
   "metadata": {},
   "source": [
    "## `1. Phát biểu bài toán (1 điểm)`"
   ]
  },
  {
   "cell_type": "markdown",
   "metadata": {},
   "source": [
    "### Yêu cầu: Mô tả bài toán, đầu vào, đầu ra, yêu cầu xử lý"
   ]
  },
  {
   "cell_type": "markdown",
   "metadata": {},
   "source": [
    "## `2. Tiền xử lý dữ liệu (2 điểm)`"
   ]
  },
  {
   "cell_type": "markdown",
   "metadata": {},
   "source": [
    "### 2.1 Thu thập dữ liệu"
   ]
  },
  {
   "cell_type": "markdown",
   "metadata": {},
   "source": [
    "### 2.2 Đánh nhãn dữ liệu nếu cần"
   ]
  },
  {
   "cell_type": "markdown",
   "metadata": {},
   "source": [
    "### 2.3 Thống kê dữ liệu mẫu"
   ]
  },
  {
   "cell_type": "markdown",
   "metadata": {},
   "source": [
    "### 2.4 Tiền xử lý dữ liệu"
   ]
  },
  {
   "cell_type": "markdown",
   "metadata": {},
   "source": [
    "## `3. Tạo, luyện và đánh giá mô hình (5 điểm)`"
   ]
  },
  {
   "cell_type": "markdown",
   "metadata": {},
   "source": [
    "### 3.1 Tạo mô hình (mô tả các quyết định)"
   ]
  },
  {
   "cell_type": "markdown",
   "metadata": {},
   "source": [
    "### 3.2 Mô tả quá trình luyện mô hình hay chạy giải thuật"
   ]
  },
  {
   "cell_type": "markdown",
   "metadata": {},
   "source": [
    "### 3.3 Mô tả điều kiện dừng"
   ]
  },
  {
   "cell_type": "markdown",
   "metadata": {},
   "source": [
    "### 3.4 Đánh giá quá trình luyện hay chạy giải thuật, hiệu chỉnh siêu tham số"
   ]
  },
  {
   "cell_type": "markdown",
   "metadata": {},
   "source": [
    "### 3.5 Lựa chọn các số đo đánh giá mô hình"
   ]
  },
  {
   "cell_type": "markdown",
   "metadata": {},
   "source": [
    "### 3.6 Đánh giá mô hình với dữ liệu test hoặc với các kỹ thuật khác"
   ]
  },
  {
   "cell_type": "markdown",
   "metadata": {},
   "source": [
    "## `4. Ứng dụng mô hình (1 điểm)`"
   ]
  },
  {
   "cell_type": "markdown",
   "metadata": {},
   "source": [
    "### 4.1 Mô tả ứng dụng mô hình (dự báo với dữ liệu mới hay mô tả các trường hợp ứng dụng khác của các mô hình không giám sát)"
   ]
  },
  {
   "cell_type": "markdown",
   "metadata": {},
   "source": [
    "### 4.2 Diễn giải các kết quả"
   ]
  },
  {
   "cell_type": "markdown",
   "metadata": {},
   "source": [
    "## `5. Kết luận (1 điểm)`"
   ]
  },
  {
   "cell_type": "markdown",
   "metadata": {},
   "source": [
    "### 5.1 Ưu nhược điểm của cách tiếp cận"
   ]
  },
  {
   "cell_type": "markdown",
   "metadata": {},
   "source": [
    "### 5.2 Khả năng ứng dụng của kết quả nghiên cứu trong tương lai"
   ]
  },
  {
   "cell_type": "markdown",
   "metadata": {},
   "source": [
    "## `Checklist: Bảng tự đánh giá Bài tập lớn`\n",
    "\n",
    "| STT | Loại yêu cầu (*)               | Yêu cầu                                                                 | Điểm chữ | Điểm số | Check | Minh chứng          | Ghi chú (diễn giải nếu cần) |\n",
    "|-----|-------------------------------|------------------------------------------------------------------------|----------|---------|-------|----------------------|-----------------------------|\n",
    "| 1   | Phát biểu bài toán (1 điểm)   | Mô tả bài toán, đầu vào, đầu ra, yêu cầu xử lý                        | A        | 1       | X     | Trang X - Y         |                             |\n",
    "| 2   | Tiền xử lý dữ liệu (2 điểm)   | Thu thập dữ liệu                                                       | A        | 1       | X     | Trang X - Y         |                             |\n",
    "|     |                               | Đánh nhãn dữ liệu (nếu cần)                                             | F        | 0       |       |                      |                             |\n",
    "|     |                               | Thống kê dữ liệu mẫu                                                   | A        | 1       | X     | Trang X - Y         |                             |\n",
    "|     |                               | Tiền xử lý dữ liệu                                                      | B        | 0.75    | X     | Trang X - Y         |                             |\n",
    "| 3   | Tạo và luyện và đánh giá mô hình (5 điểm) | Tạo mô hình (mô tả các quyết định)                                     | A        | 1       | X     | Trang X - Y         |                             |\n",
    "|     |                               | Mô tả quá trình luyện mô hình hay chạy giải thuật                      | A        | 1       | X     | Trang X - Y         |                             |\n",
    "|     |                               | Mô tả điều kiện dừng                                                   | C        | 0.5     | X     | Trang X - Y         |                             |\n",
    "|     |                               | Đánh giá quá trình luyện hay chạy giải thuật, hiệu chỉnh siêu tham số  | C        | 0.5     | X     | Trang X - Y         |                             |\n",
    "|     |                               | Lựa chọn các số đo đánh giá mô hình                                      | A        | 1       | X     | Trang X - Y         |                             |\n",
    "|     |                               | Đánh giá mô hình với dữ liệu test hoặc với các kỹ thuật khác             | A        | 1       | X     | Trang X - Y         |                             |\n",
    "| 4   | Ứng dụng mô hình (1 điểm)     | Mô tả ứng dụng mô hình (dự báo với dữ liệu mới hay mô tả các trường hợp ứng dụng khác của các mô hình không giám sát) | C        | 0.5     | X     | Trang X - Y         |                             |\n",
    "|     |                               | Diễn giải các kết quả                                                  | C        | 0.5     | X     | Trang X - Y         |                             |\n",
    "| 5   | Kết luận (1 điểm)              | Ưu nhược điểm của cách tiếp cận                                          | F        | 0       |       |                      |                             |\n",
    "|     |                               | Khả năng ứng dụng của kết quả nghiên cứu trong tương lai                  | B        | 0.75    | X     | Trang X - Y         |                             |\n",
    "|     |                               | Tổng điểm                                                               |          | 9.75    |       |                      |                             |\n",
    "\n",
    "(*) Điểm trong ngoặc là điểm tối đa\n",
    "\n",
    "| Điểm chữ | Điểm số |\n",
    "|---------|---------|\n",
    "| A       | 1       |\n",
    "| B       | 0.75    |\n",
    "| C       | 0.5     |\n",
    "| D       | 0.25    |\n",
    "| F       | 0       |\n"
   ]
  }
 ],
 "metadata": {
  "language_info": {
   "name": "python"
  }
 },
 "nbformat": 4,
 "nbformat_minor": 2
}
